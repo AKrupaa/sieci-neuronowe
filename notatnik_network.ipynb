{
 "cells": [
  {
   "cell_type": "code",
   "execution_count": null,
   "id": "0203d036",
   "metadata": {},
   "outputs": [],
   "source": [
    "import numpy as np\n",
    "from keras import Sequential\n",
    "from keras.layers import Dense\n",
    "import pandas as pd\n",
    "from sklearn.model_selection import train_test_split\n",
    "from sklearn.metrics import confusion_matrix\n",
    "from sklearn.preprocessing import OneHotEncoder, LabelEncoder\n",
    "\n",
    "if __name__ == '__main__':\n",
    "    # Wczytywanie danych z pliku csv\n",
    "    dataframe = pd.read_csv(filepath_or_buffer=\"textures_data.csv\", sep=',')\n",
    "    data = dataframe.to_numpy()\n",
    "\n",
    "    # Wyodrębnić wektory cech do macierzy X\n",
    "    X = data[:, :-1]\n",
    "    # Wyodrębnić etykiety kategorii do wektora y\n",
    "    y = data[:, -1]\n",
    "    # etykiety na int\n",
    "    label_encoder = LabelEncoder()\n",
    "    integer_encoder = label_encoder.fit_transform(y)\n",
    "    # int na 1 z n\n",
    "    onehot_encoder = OneHotEncoder()\n",
    "    integer_encoder = integer_encoder.reshape(len(integer_encoder), 1)\n",
    "    onehot_encoder = onehot_encoder.fit_transform(integer_encoder)\n",
    "    # podzial na czesc treningowa i testowa; część treningowa (70%); testowa (30%)\n",
    "    X_train, X_test, y_train, y_test = train_test_split(X, y, test_size=0.3, random_state=0)\n",
    "\n",
    "    # Tworzenie modelu sieci neuronowe typu Sequential\n",
    "    # Dodać dwie warstwy typu Dense. W pierwszej warstwie ustawić liczbę perceptronów na 10,\n",
    "    # funkcja aktywacji – sigmoid, wymiar wejściowy – input_dim = 72 (tyle, ile jest cech w zbiorze danych).\n",
    "    # W drugiej warstwie ustawić liczbę neuronów na 3 (tyle ile jest klas) oraz funkcję aktywacji na softmax\n",
    "    model = Sequential()\n",
    "    model.add(Dense(10, input_dim=72, activation='sigmoid'))\n",
    "    model.add(Dense(3, activation='softmax'))\n",
    "\n",
    "    # Skompilować model z funkcją straty categorical_crossentropy\n",
    "    # oraz algorytmem optymalizacji – sgd (=stochastic gradient descent).\n",
    "    # Dodać accuracy jako metrykę wyliczaną w trakcie uczenia.\n",
    "    model.compile(loss='categorical_crossentropy', optimalizer='sgd', metrics=['accuracy'])\n",
    "\n",
    "    model.summary()\n",
    "\n",
    "    # Uczenie sieci – wywołać na rzecz modelu funkcję fit\n",
    "    model.fit(X_train, y_train, epochs=100, batch_size=10, shuffle=True)\n",
    "    # Przekonwertować wektor y_test oraz y_pred do kodowania całkowitego\n",
    "    y_pred = model.predict(X_test)\n",
    "    y_pred_int = np.argmax(y_pred, axis=1)\n",
    "    y_test_int = np.argmax(y_test, axis=1)\n",
    "    # Na podstawie otrzymanych wektorów etykiet całkowitoliczbowych wyliczyć macierz pomyłek\n",
    "    cm = confusion_matrix(y_test_int, y_pred_int)\n",
    "    print(f'{cm}')\n"
   ]
  }
 ],
 "metadata": {
  "kernelspec": {
   "display_name": "Python 3",
   "language": "python",
   "name": "python3"
  },
  "language_info": {
   "codemirror_mode": {
    "name": "ipython",
    "version": 3
   },
   "file_extension": ".py",
   "mimetype": "text/x-python",
   "name": "python",
   "nbconvert_exporter": "python",
   "pygments_lexer": "ipython3",
   "version": "3.9.2"
  }
 },
 "nbformat": 4,
 "nbformat_minor": 5
}
